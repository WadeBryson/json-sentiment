{
 "cells": [
  {
   "cell_type": "markdown",
   "metadata": {},
   "source": [
    "# Web Mining and Applied NLP (44-620)\n",
    "\n",
    "## Requests, JSON, and NLP\n",
    "\n",
    "### Student Name:\n",
    "\n",
    "Perform the tasks described in the Markdown cells below.  When you have completed the assignment make sure your code cells have all been run (and have output beneath them) and ensure you have committed and pushed ALL of your changes to your assignment repository.\n",
    "\n",
    "Make sure you have [installed spaCy and its pipeline](https://spacy.io/usage#quickstart) and [spaCyTextBlob](https://spacy.io/universe/project/spacy-textblob)\n",
    "\n",
    "Every question that requires you to write code will have a code cell underneath it; you may either write your entire solution in that cell or write it in a python file (`.py`), then import and run the appropriate code to answer the question.\n",
    "\n",
    "This assignment requires that you write additional files (either JSON or pickle files); make sure to submit those files in your repository as well."
   ]
  },
  {
   "cell_type": "code",
   "execution_count": 4,
   "metadata": {},
   "outputs": [],
   "source": [
    "import json\n",
    "import pickle\n",
    "\n",
    "import requests\n",
    "import spacy\n",
    "from spacytextblob.spacytextblob import SpacyTextBlob"
   ]
  },
  {
   "cell_type": "markdown",
   "metadata": {},
   "source": [
    "1. The following code accesses the [lyrics.ovh](https://lyricsovh.docs.apiary.io/#reference/0/lyrics-of-a-song/search) public api, searches for the lyrics of a song, and stores it in a dictionary object.  Write the resulting json to a file (either a JSON file or a pickle file; you choose). You will read in the contents of this file for future questions so we do not need to frequently access the API."
   ]
  },
  {
   "cell_type": "code",
   "execution_count": 5,
   "metadata": {},
   "outputs": [
    {
     "name": "stdout",
     "output_type": "stream",
     "text": [
      "Searching for songs by They Might Be Giants...\n",
      "\n",
      "Song 1: \"200 Sbemails (for Homestar Runner)\"\n",
      "Song 2: \"2082\"\n",
      "Song 3: \"25 O’Clock\"\n",
      "Song 4: \"32 Footsteps\"\n",
      "Song 5: \"3rd Amendment\"\n",
      "\n",
      "Reached user-specified song limit (5).\n",
      "Done. Found 5 songs.\n",
      "Searching for \"Birdhouse In Your Soul\" by They Might Be Giants...\n",
      "Done.\n"
     ]
    }
   ],
   "source": [
    "import requests\n",
    "import json\n",
    "\n",
    "# result = json.loads(requests.get('https://api.lyrics.ovh/v1/They Might Be Giants/Birdhouse in your soul').text)\n",
    "\n",
    "# Setting up Lyrics Genius\n",
    "import lyricsgenius\n",
    "genius = lyricsgenius.Genius(\"lRsxb5ZjuM5SVrA2OYk-MpRv7LJZL806cKMfhhhBuaaplNYZQteRazYt-8XOJNiz\")\n",
    "\n",
    "# Setting the artist variable to the corrrect artist\n",
    "artist = genius.search_artist(\"They Might Be Giants\", max_songs=5, sort=\"title\")\n",
    "\n",
    "# Find the \"Birdhouse in Your Soul\" song\n",
    "song = artist.song('Birdhouse In Your Soul')\n",
    "\n",
    "# Saving the Lyrics\n",
    "lyrics = song.lyrics\n",
    "\n",
    "# Creating the dictionary with song information\n",
    "song_dict = {\n",
    "    'Artist': 'They Might Be Giants',\n",
    "    'Song': 'Birdhouse In Your Soul',\n",
    "    'Lyrics': lyrics\n",
    "}\n",
    "\n",
    "with open('birdhouse_lyrics.json', 'w') as new_file:\n",
    "    json.dump(song_dict, new_file)\n"
   ]
  },
  {
   "cell_type": "markdown",
   "metadata": {},
   "source": [
    "2. Read in the contents of your file.  Print the lyrics of the song (not the entire dictionary!) and use spaCyTextBlob to perform sentiment analysis on the lyrics.  Print the polarity score of the sentiment analysis.  Given that the range of the polarity score is `[-1.0,1.0]` which corresponds to how positive or negative the text in question is, do you think the lyrics have a more positive or negative connotaion?  Answer this question in a comment in your code cell."
   ]
  },
  {
   "cell_type": "code",
   "execution_count": null,
   "metadata": {},
   "outputs": [],
   "source": []
  },
  {
   "cell_type": "markdown",
   "metadata": {},
   "source": [
    "3. Write a function that takes an artist, song, and filename, accesses the lyrics.ovh api to get the song lyrics, and writes the results to the specified filename.  Test this function by getting the lyrics to any four songs of your choice and storing them in different files."
   ]
  },
  {
   "cell_type": "code",
   "execution_count": null,
   "metadata": {},
   "outputs": [],
   "source": []
  },
  {
   "cell_type": "markdown",
   "metadata": {},
   "source": [
    "4. Write a function that takes the name of a file that contains song lyrics, loads the file, performs sentiment analysis, and returns the polarity score.  Use this function to print the polarity scores (with the name of the song) of the three files you created in question 3.  Does the reported polarity match your understanding of the song's lyrics? Why or why not do you think that might be?  Answer the questions in either a comment in the code cell or a markdown cell under the code cell."
   ]
  },
  {
   "cell_type": "code",
   "execution_count": null,
   "metadata": {},
   "outputs": [],
   "source": []
  }
 ],
 "metadata": {
  "kernelspec": {
   "display_name": "Python 3",
   "language": "python",
   "name": "python3"
  },
  "language_info": {
   "codemirror_mode": {
    "name": "ipython",
    "version": 3
   },
   "file_extension": ".py",
   "mimetype": "text/x-python",
   "name": "python",
   "nbconvert_exporter": "python",
   "pygments_lexer": "ipython3",
   "version": "3.11.3"
  }
 },
 "nbformat": 4,
 "nbformat_minor": 4
}
