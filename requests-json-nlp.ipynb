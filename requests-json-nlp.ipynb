{
 "cells": [
  {
   "cell_type": "markdown",
   "metadata": {},
   "source": [
    "# Web Mining and Applied NLP (44-620)\n",
    "\n",
    "## Requests, JSON, and NLP\n",
    "\n",
    "### Student Name:\n",
    "\n",
    "Perform the tasks described in the Markdown cells below.  When you have completed the assignment make sure your code cells have all been run (and have output beneath them) and ensure you have committed and pushed ALL of your changes to your assignment repository.\n",
    "\n",
    "Make sure you have [installed spaCy and its pipeline](https://spacy.io/usage#quickstart) and [spaCyTextBlob](https://spacy.io/universe/project/spacy-textblob)\n",
    "\n",
    "Every question that requires you to write code will have a code cell underneath it; you may either write your entire solution in that cell or write it in a python file (`.py`), then import and run the appropriate code to answer the question.\n",
    "\n",
    "This assignment requires that you write additional files (either JSON or pickle files); make sure to submit those files in your repository as well."
   ]
  },
  {
   "cell_type": "code",
   "execution_count": 4,
   "metadata": {},
   "outputs": [],
   "source": [
    "import json\n",
    "import pickle\n",
    "\n",
    "import requests\n",
    "import spacy\n",
    "from spacytextblob.spacytextblob import SpacyTextBlob"
   ]
  },
  {
   "cell_type": "markdown",
   "metadata": {},
   "source": [
    "1. The following code accesses the [lyrics.ovh](https://lyricsovh.docs.apiary.io/#reference/0/lyrics-of-a-song/search) public api, searches for the lyrics of a song, and stores it in a dictionary object.  Write the resulting json to a file (either a JSON file or a pickle file; you choose). You will read in the contents of this file for future questions so we do not need to frequently access the API."
   ]
  },
  {
   "cell_type": "code",
   "execution_count": 5,
   "metadata": {},
   "outputs": [
    {
     "name": "stdout",
     "output_type": "stream",
     "text": [
      "Searching for songs by They Might Be Giants...\n",
      "\n",
      "Song 1: \"200 Sbemails (for Homestar Runner)\"\n",
      "Song 2: \"2082\"\n",
      "Song 3: \"25 O’Clock\"\n",
      "Song 4: \"32 Footsteps\"\n",
      "Song 5: \"3rd Amendment\"\n",
      "\n",
      "Reached user-specified song limit (5).\n",
      "Done. Found 5 songs.\n",
      "Searching for \"Birdhouse In Your Soul\" by They Might Be Giants...\n",
      "Done.\n"
     ]
    }
   ],
   "source": [
    "import requests\n",
    "import json\n",
    "\n",
    "# result = json.loads(requests.get('https://api.lyrics.ovh/v1/They Might Be Giants/Birdhouse in your soul').text)\n",
    "\n",
    "# Setting up Lyrics Genius\n",
    "import lyricsgenius\n",
    "genius = lyricsgenius.Genius(\"lRsxb5ZjuM5SVrA2OYk-MpRv7LJZL806cKMfhhhBuaaplNYZQteRazYt-8XOJNiz\")\n",
    "\n",
    "# Setting the artist variable to the corrrect artist\n",
    "artist = genius.search_artist(\"They Might Be Giants\", max_songs=5, sort=\"title\")\n",
    "\n",
    "# Find the \"Birdhouse in Your Soul\" song\n",
    "song = artist.song('Birdhouse In Your Soul')\n",
    "\n",
    "# Saving the Lyrics\n",
    "lyrics = song.lyrics\n",
    "\n",
    "# Creating the dictionary with song information\n",
    "song_dict = {\n",
    "    'Artist': 'They Might Be Giants',\n",
    "    'Song': 'Birdhouse In Your Soul',\n",
    "    'Lyrics': lyrics\n",
    "}\n",
    "\n",
    "with open('birdhouse_lyrics.json', 'w') as new_file:\n",
    "    json.dump(song_dict, new_file)\n"
   ]
  },
  {
   "cell_type": "markdown",
   "metadata": {},
   "source": [
    "2. Read in the contents of your file.  Print the lyrics of the song (not the entire dictionary!) and use spaCyTextBlob to perform sentiment analysis on the lyrics.  Print the polarity score of the sentiment analysis.  Given that the range of the polarity score is `[-1.0,1.0]` which corresponds to how positive or negative the text in question is, do you think the lyrics have a more positive or negative connotaion?  Answer this question in a comment in your code cell."
   ]
  },
  {
   "cell_type": "code",
   "execution_count": 6,
   "metadata": {},
   "outputs": [
    {
     "data": {
      "text/plain": [
       "\"52 ContributorsBirdhouse in Your Soul Lyrics[Bridge]\\nI'm your only friend\\nI'm not your only friend\\nBut I'm a little glowing friend\\nBut really I'm not actually your friend\\nBut I am\\n\\n[Chorus]\\nBlue canary in the outlet by the light switch\\nWho watches over you\\nMake a little birdhouse in your soul\\nNot to put too fine a point on it\\nSay I'm the only bee in your bonnet\\nMake a little birdhouse in your soul\\n\\n[Verse 1]\\nI have a secret to tell\\nFrom my electrical well\\nIt's a simple message and I'm\\nLeaving out the whistles and bells\\nSo the room must listen to me\\nFilibuster vigilantly\\nMy name is blue canary\\nOne note spelled l-i-t-e\\nMy story's infinite\\nLike the Longines Symphonette\\nIt doesn't rest\\nSee They Might Be Giants LiveGet tickets as low as $60You might also like[Chorus]\\nBlue canary in the outlet by the light switch\\nWho watches over you\\nMake a little birdhouse in your soul\\nNot to put too fine a point on it\\nSay I'm the only bee in your bonnet\\nMake a little birdhouse in your soul\\n\\n[Bridge]\\nI'm your only friend\\nI'm not your only friend\\nBut I'm a little glowing friend\\nBut really I'm not actually your friend\\nBut I am\\n\\n[Verse 2]\\nThere's a picture opposite me\\nOf my primitive ancestry\\nWhich stood on rocky shores\\nAnd kept the beaches shipwreck-free\\nThough I respect that a lot\\nI'd be fired if that were my job\\nAfter killing Jason off\\nAnd countless screaming Argonauts\\nBlue bird of friendliness\\nLike guardian angels it's\\nAlways near\\n[Chorus 2]\\nBlue canary in the outlet by the light switch\\nWho watches over you\\nMake a little birdhouse in your soul\\nNot to put too fine a point on it\\nSay I'm the only bee in your bonnet\\nMake a little birdhouse in your soul\\nWhile you're at it\\nKeep the nightlight on inside\\nThe birdhouse in your soul\\nNot to put too fine a point on it\\nSay I'm the only bee in your bonnet\\nMake a little birdhouse in your soul\\nWhile you're at it\\nKeep the nightlight on inside\\nThe birdhouse in your soul\\n(Blue canary in the outlet by the light switch\\nWho watches over you\\nMake a little birdhouse in your soul)\\nMake a little birdhouse in your soul\\nWhile you're at it\\nKeep the nightlight on inside\\nThe birdhouse in your soul\\nNot to put too fine a point on it\\nSay I'm the only bee in your bonnet\\nMake a little birdhouse in your soul19Embed\""
      ]
     },
     "execution_count": 6,
     "metadata": {},
     "output_type": "execute_result"
    }
   ],
   "source": [
    "with open ('birdhouse_lyrics.json', 'r') as file:\n",
    "    dictionary = json.load(file)\n",
    "\n",
    "dictionary['Lyrics']"
   ]
  },
  {
   "cell_type": "code",
   "execution_count": 11,
   "metadata": {},
   "outputs": [
    {
     "name": "stdout",
     "output_type": "stream",
     "text": [
      "Polarity Score: 0.02575757575757576\n"
     ]
    }
   ],
   "source": [
    "# Loading the Spacy Model\n",
    "nlp = spacy.load('en_core_web_sm')\n",
    "\n",
    "# Adding Spacy to the pipeline\n",
    "nlp.add_pipe('spacytextblob')\n",
    "\n",
    "doc = nlp(lyrics)\n",
    "polarity = doc._.polarity\n",
    "\n",
    "print('Polarity Score:', polarity)\n",
    "\n",
    "\"\"\" The Polarity Score is 0.257 which would be categorized as neutral. \n",
    "There is a slight hint towards the postive side but it is not significant enough to be labelled strong positive.\n",
    "\"\"\""
   ]
  },
  {
   "cell_type": "markdown",
   "metadata": {},
   "source": [
    "3. Write a function that takes an artist, song, and filename, accesses the lyrics.ovh api to get the song lyrics, and writes the results to the specified filename.  Test this function by getting the lyrics to any four songs of your choice and storing them in different files."
   ]
  },
  {
   "cell_type": "code",
   "execution_count": 18,
   "metadata": {},
   "outputs": [
    {
     "name": "stdout",
     "output_type": "stream",
     "text": [
      "Searching for songs by Zach Bryan...\n",
      "\n",
      "Song 1: \"’68 Fastback\"\n",
      "\n",
      "Reached user-specified song limit (1).\n",
      "Done. Found 1 songs.\n",
      "Searching for \"Something in the Orange\" by Zach Bryan...\n",
      "Done.\n"
     ]
    }
   ],
   "source": [
    "def write_song_from_api_to_JSON(artist, song, filename):\n",
    "    genius = lyricsgenius.Genius(\"lRsxb5ZjuM5SVrA2OYk-MpRv7LJZL806cKMfhhhBuaaplNYZQteRazYt-8XOJNiz\")\n",
    "    artist = genius.search_artist(artist, max_songs=1, sort=\"title\")\n",
    "    song = artist.song(song)\n",
    "    with open(filename, 'w') as filename:\n",
    "        json.dump(song.lyrics, filename)\n",
    "\n",
    "write_song_from_api_to_JSON(\"Zach Bryan\", \"Something in the Orange\", \"something_in_the_orange_lyrics.json\")\n",
    "    "
   ]
  },
  {
   "cell_type": "code",
   "execution_count": 19,
   "metadata": {},
   "outputs": [
    {
     "name": "stdout",
     "output_type": "stream",
     "text": [
      "Searching for songs by Cole Swindell...\n",
      "\n",
      "Song 1: \"20 In a Chevy\"\n",
      "\n",
      "Reached user-specified song limit (1).\n",
      "Done. Found 1 songs.\n",
      "Searching for \"She Had Me At Heads Carolina\" by Cole Swindell...\n",
      "Done.\n",
      "Searching for songs by Bailey Zimmerman...\n",
      "\n",
      "Song 1: \"Change\"\n",
      "\n",
      "Reached user-specified song limit (1).\n",
      "Done. Found 1 songs.\n",
      "Searching for \"Fall in Love\" by Bailey Zimmerman...\n",
      "Done.\n",
      "Searching for songs by Morgan Wallen...\n",
      "\n",
      "Song 1: \"180 (Lifestyle)\"\n",
      "\n",
      "Reached user-specified song limit (1).\n",
      "Done. Found 1 songs.\n",
      "Searching for \"Wasted on You\" by Morgan Wallen...\n",
      "Done.\n"
     ]
    }
   ],
   "source": [
    "# Running the Function 3 more times\n",
    "write_song_from_api_to_JSON(\"Cole Swindell\", \"She Had Me At Heads Carolina\", \"heads_carolina_lyrics.json\")\n",
    "write_song_from_api_to_JSON(\"Bailey Zimmerman\", \"Fall in Love\", \"fall_in_love_lyrics.json\")\n",
    "write_song_from_api_to_JSON(\"Morgan Wallen\", \"Wasted on You\", \"wasted_on_you_lyrics.json\")"
   ]
  },
  {
   "cell_type": "markdown",
   "metadata": {},
   "source": [
    "4. Write a function that takes the name of a file that contains song lyrics, loads the file, performs sentiment analysis, and returns the polarity score.  Use this function to print the polarity scores (with the name of the song) of the three files you created in question 3.  Does the reported polarity match your understanding of the song's lyrics? Why or why not do you think that might be?  Answer the questions in either a comment in the code cell or a markdown cell under the code cell."
   ]
  },
  {
   "cell_type": "code",
   "execution_count": 17,
   "metadata": {},
   "outputs": [
    {
     "name": "stdout",
     "output_type": "stream",
     "text": [
      "something_in_the_orange_lyrics Polarity: 0.011666666666666659\n",
      "heads_carolina_lyrics Polarity: 0.008888888888888885\n",
      "fall_in_love_lyrics Polarity: 0.20706633433906158\n",
      "wasted_on_you_lyrics Polarity: -0.10428004535147395\n"
     ]
    }
   ],
   "source": [
    "def polarity_score_from_lyrics(filename):\n",
    "    nlp = spacy.load('en_core_web_sm')\n",
    "    nlp.add_pipe('spacytextblob')\n",
    "    with open(filename, 'r') as f:\n",
    "        lyrics = json.load(f)\n",
    "    doc = nlp(lyrics)\n",
    "    polarity = doc._.blob.polarity\n",
    "    print(f'{filename} Polarity: {polarity}')\n",
    "\n",
    "polarity_score_from_lyrics('something_in_the_orange_lyrics')\n",
    "polarity_score_from_lyrics('heads_carolina_lyrics')\n",
    "polarity_score_from_lyrics('fall_in_love_lyrics')\n",
    "polarity_score_from_lyrics('wasted_on_you_lyrics')\n",
    "\n"
   ]
  }
 ],
 "metadata": {
  "kernelspec": {
   "display_name": "Python 3",
   "language": "python",
   "name": "python3"
  },
  "language_info": {
   "codemirror_mode": {
    "name": "ipython",
    "version": 3
   },
   "file_extension": ".py",
   "mimetype": "text/x-python",
   "name": "python",
   "nbconvert_exporter": "python",
   "pygments_lexer": "ipython3",
   "version": "3.11.3"
  }
 },
 "nbformat": 4,
 "nbformat_minor": 4
}
